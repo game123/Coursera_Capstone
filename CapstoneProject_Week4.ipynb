{
 "cells": [
  {
   "cell_type": "markdown",
   "metadata": {},
   "source": [
    "## Best office location for food delievery service in Seattle"
   ]
  },
  {
   "cell_type": "markdown",
   "metadata": {},
   "source": [
    "## Introduction:"
   ]
  },
  {
   "cell_type": "markdown",
   "metadata": {},
   "source": [
    "Food delivery industry is very competitive these days and the delivery time matters most for customers satisfaction. Besides, food must be kept at a consistent temperature to stay fresh and tasty. Choosing the right location of the office or distribution center for efficiency and fast delivery of the food is crucial to the business. It is best for the stakeholder of this project to start with a small area and contact local popular restaurants as much as possible and gradually increase the restaurant base in new areas. In order to get more food delivery orders and be competitive, the office need to be close to the most of popular restaurants among the neighborhoods as much as it can\n",
    "\n",
    "This project would help the stakeholders to make a better decision on choosing the location of the new office in Seattle. The new office can enhance the efficiency of the delivery system and cut-down the operating cots to minimal. "
   ]
  },
  {
   "cell_type": "markdown",
   "metadata": {},
   "source": [
    "## Data Section:"
   ]
  },
  {
   "cell_type": "markdown",
   "metadata": {},
   "source": [
    "The project will make use of the following data sources:\n",
    "\n",
    "\n",
    "### Zip codes of different neighborhoods in Seattle \n",
    "Postal codes in Seattle will retrieved from this website\n",
    "http://seattlearea.com/zip-codes/\n",
    "\n",
    "### Neighborhood location data retrieved using Google maps API\n",
    "Location coordinates of different place venues will be returned using Google API\n",
    "\n",
    "### Finding popular restaurants in different neighborhoods from FourSquare API\n",
    "I will use the FourSquare API to explore different neighborhoods in Seattle.  The Foursquare explore function will be used to get the most popular restaurant in each neighborhood, and then  the result will be grouped into clusters by using k-means method. The final recommended location of the office will be marked on a map by folium library.\n",
    "\n",
    "\n",
    "\n"
   ]
  },
  {
   "cell_type": "code",
   "execution_count": null,
   "metadata": {},
   "outputs": [],
   "source": []
  }
 ],
 "metadata": {
  "kernelspec": {
   "display_name": "Python 3",
   "language": "python",
   "name": "python3"
  },
  "language_info": {
   "codemirror_mode": {
    "name": "ipython",
    "version": 3
   },
   "file_extension": ".py",
   "mimetype": "text/x-python",
   "name": "python",
   "nbconvert_exporter": "python",
   "pygments_lexer": "ipython3",
   "version": "3.7.1"
  }
 },
 "nbformat": 4,
 "nbformat_minor": 2
}
